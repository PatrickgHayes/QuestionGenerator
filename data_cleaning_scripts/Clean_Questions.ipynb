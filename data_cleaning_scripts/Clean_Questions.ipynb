{
 "cells": [
  {
   "cell_type": "code",
   "execution_count": 10,
   "metadata": {},
   "outputs": [
    {
     "name": "stdout",
     "output_type": "stream",
     "text": [
      "End of file\n"
     ]
    }
   ],
   "source": [
    "buffer_size = 11\n",
    "in_question = False\n",
    "\n",
    "with open('CLEVR_train_questions.json') as f:\n",
    "    with open('clean_questions.txt', \"w\") as w:\n",
    "        buffer = f.read(buffer_size)\n",
    "        while True:\n",
    "            next_character = f.read(1)\n",
    "            if not next_character:\n",
    "                print(\"End of file\")\n",
    "                break\n",
    "            \n",
    "            if in_question:\n",
    "                w.write(next_character)\n",
    "                \n",
    "            buffer = buffer[1:]\n",
    "            buffer += next_character\n",
    "            if buffer == '\"question\":':\n",
    "                in_question = True\n",
    "            if in_question == True and next_character == '}':\n",
    "                in_question = False\n",
    "                w.write('\\n')"
   ]
  },
  {
   "cell_type": "code",
   "execution_count": 22,
   "metadata": {},
   "outputs": [],
   "source": [
    "with open('clean_questions.txt', \"r+\") as g:\n",
    "    with open('small_no_brackets.txt','w') as v:\n",
    "        i = 0\n",
    "        while i < 600:\n",
    "            line = g.readline()\n",
    "            v.write(line[2:-3])\n",
    "            v.write('\\n')\n",
    "            i += 1\n",
    "            "
   ]
  },
  {
   "cell_type": "code",
   "execution_count": 17,
   "metadata": {},
   "outputs": [
    {
     "name": "stderr",
     "output_type": "stream",
     "text": [
      "IOPub data rate exceeded.\n",
      "The notebook server will temporarily stop sending output\n",
      "to the client in order to avoid crashing it.\n",
      "To change this limit, set the config variable\n",
      "`--NotebookApp.iopub_data_rate_limit`.\n",
      "\n",
      "Current values:\n",
      "NotebookApp.iopub_data_rate_limit=1000000.0 (bytes/sec)\n",
      "NotebookApp.rate_limit_window=3.0 (secs)\n",
      "\n"
     ]
    }
   ],
   "source": [
    "with open('not_brackets.txt', 'r') as p:\n",
    "    print(p.readline())"
   ]
  },
  {
   "cell_type": "code",
   "execution_count": null,
   "metadata": {},
   "outputs": [],
   "source": []
  }
 ],
 "metadata": {
  "kernelspec": {
   "display_name": "Python (tbd)",
   "language": "python",
   "name": "tbd"
  },
  "language_info": {
   "codemirror_mode": {
    "name": "ipython",
    "version": 3
   },
   "file_extension": ".py",
   "mimetype": "text/x-python",
   "name": "python",
   "nbconvert_exporter": "python",
   "pygments_lexer": "ipython3",
   "version": "3.6.5"
  }
 },
 "nbformat": 4,
 "nbformat_minor": 2
}
